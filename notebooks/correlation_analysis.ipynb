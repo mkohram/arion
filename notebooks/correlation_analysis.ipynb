{
 "cells": [
  {
   "cell_type": "code",
   "execution_count": 1,
   "metadata": {},
   "outputs": [],
   "source": [
    "%load_ext autoreload\n",
    "%autoreload 2"
   ]
  },
  {
   "cell_type": "code",
   "execution_count": 2,
   "metadata": {},
   "outputs": [],
   "source": [
    "import pandas as pd\n",
    "import networkx as nx\n",
    "import numpy as np\n",
    "import Levenshtein as lev\n",
    "\n",
    "import matplotlib.pyplot as plt\n",
    "from arion.utils import generate_db, peakset2ppm, Colors"
   ]
  },
  {
   "cell_type": "code",
   "execution_count": 3,
   "metadata": {},
   "outputs": [],
   "source": [
    "data_dir = '/media/shared/arion_data/metabolites'"
   ]
  },
  {
   "cell_type": "code",
   "execution_count": 4,
   "metadata": {},
   "outputs": [
    {
     "data": {
      "text/plain": [
       "(16, 547)"
      ]
     },
     "execution_count": 4,
     "metadata": {},
     "output_type": "execute_result"
    }
   ],
   "source": [
    "filled = pd.read_csv('filled.csv').iloc[:, 1:]\n",
    "features = pd.read_csv('features.csv').iloc[:, 1:]\n",
    "features.shape"
   ]
  },
  {
   "cell_type": "code",
   "execution_count": 5,
   "metadata": {},
   "outputs": [],
   "source": [
    "corr_mat = features.corr('spearman')\n",
    "top_vals = corr_mat > 0.75"
   ]
  },
  {
   "cell_type": "code",
   "execution_count": 6,
   "metadata": {},
   "outputs": [
    {
     "data": {
      "text/plain": [
       "<matplotlib.image.AxesImage at 0x7fcdbc3359b0>"
      ]
     },
     "execution_count": 6,
     "metadata": {},
     "output_type": "execute_result"
    },
    {
     "data": {
      "image/png": "[encoded data removed]",
      "text/plain": [
       "<Figure size 720x720 with 1 Axes>"
      ]
     },
     "metadata": {
      "needs_background": "light"
     },
     "output_type": "display_data"
    }
   ],
   "source": [
    "plt.figure(figsize=(10, 10))\n",
    "plt.imshow(top_vals, cmap='hot', interpolation='none')"
   ]
  },
  {
   "cell_type": "code",
   "execution_count": 11,
   "metadata": {},
   "outputs": [],
   "source": [
    "g = nx.Graph(corr_mat > 0.8)"
   ]
  },
  {
   "cell_type": "code",
   "execution_count": 12,
   "metadata": {},
   "outputs": [
    {
     "name": "stdout",
     "output_type": "stream",
     "text": [
      "found 503 cliques\n"
     ]
    }
   ],
   "source": [
    "cliqs = []\n",
    "\n",
    "MAXCLIQUES = 100000\n",
    "for idx, cliq in enumerate(nx.find_cliques(g)):\n",
    "    if idx > MAXCLIQUES:\n",
    "        raise Exception(f\"More than {MAXCLIQUES} cliques found\")\n",
    "        break\n",
    "    cliqs.append(cliq)\n",
    "print(f\"found {len(cliqs)} cliques\")"
   ]
  },
  {
   "cell_type": "code",
   "execution_count": 13,
   "metadata": {},
   "outputs": [
    {
     "name": "stdout",
     "output_type": "stream",
     "text": [
      "found 9028 peaks across 615 metabolites\n"
     ]
    }
   ],
   "source": [
    "peak_db = generate_db(data_dir)"
   ]
  },
  {
   "cell_type": "code",
   "execution_count": 14,
   "metadata": {},
   "outputs": [],
   "source": [
    "found = False\n",
    "identified_metabolites = []\n",
    "for idx, cliq in enumerate(cliqs):\n",
    "    res = peak_db.query_n(peakset2ppm(cliq, filled))\n",
    "    for qs in res:\n",
    "        if qs['score'] >= 0.1 and len(peak_db.metabolite_peaks[qs['metabolite_id']]) > 1 and len(qs['missing']) < 2:\n",
    "            identified_metabolites.append((idx, cliq, qs))"
   ]
  },
  {
   "cell_type": "code",
   "execution_count": null,
   "metadata": {},
   "outputs": [],
   "source": [
    "identified_m"
   ]
  },
  {
   "cell_type": "code",
   "execution_count": 15,
   "metadata": {},
   "outputs": [],
   "source": [
    "import glob\n",
    "import xml.etree.ElementTree as ET\n",
    "\n",
    "data_dir = '/media/shared/arion_data/metabolites'\n",
    "xml_file = 'simulation_1/spin_simulation.xml'\n",
    "cutoff = 0.001\n",
    "\n",
    "peaks = []\n",
    "met_idx = 0\n",
    "names = {}\n",
    "for met_idx, d in enumerate(glob.glob(f'{data_dir}/bmse*')):\n",
    "    metabolite_id = d.split('/')[-1]\n",
    "\n",
    "    tree = ET.parse(f'{d}/{xml_file}')\n",
    "    root = tree.getroot()\n",
    "    names[root.find('ID').text] = root.find('name').text"
   ]
  },
  {
   "cell_type": "code",
   "execution_count": 16,
   "metadata": {},
   "outputs": [],
   "source": [
    "import csv\n",
    "\n",
    "hamid_met_names = []\n",
    "with open(\"names_from_hamid.csv\") as f:\n",
    "    csvfile = csv.reader(f)\n",
    "    next(csvfile)\n",
    "    for line in csvfile:\n",
    "        hamid_met_names.append([l.strip() for l in line])"
   ]
  },
  {
   "cell_type": "code",
   "execution_count": 17,
   "metadata": {},
   "outputs": [
    {
     "name": "stdout",
     "output_type": "stream",
     "text": [
      "matched 68 | unmatched 46\n"
     ]
    }
   ],
   "source": [
    "matched_count = 0\n",
    "unmatched_count = 0\n",
    "\n",
    "# unmatched_file = open('umatched.csv', 'w')\n",
    "# writer = csv.writer(unmatched_file)\n",
    "# writer.writerow([f\"Name {i}\" for i in range(1, 6)] + [f\"suggestion {i}\" for i in range(1, 6)])\n",
    "\n",
    "matched_set = set()\n",
    "for hamid_met_name_set in hamid_met_names:\n",
    "    matches = []\n",
    "    for n in hamid_met_name_set:\n",
    "        scores = [(n, lev.jaro(n.lower(), m.lower()), (i, m)) for i, m in names.items()]\n",
    "        matches.append(max(scores, key=lambda a: a[1]))\n",
    "    \n",
    "    if any([abs(m[1] - 1) < 0.000001 for m in matches]):\n",
    "        matched_count += 1\n",
    "        maxv = max(matches, key=lambda a: a[1])\n",
    "#         print(maxv)\n",
    "        matched_set.add(maxv[2][0])\n",
    "    else:\n",
    "        orig = [i[0] for i in matches]\n",
    "        suggestions = [f'{i[2][1]} <{i[2][0]}>' for i in matches]\n",
    "        \n",
    "#         writer.writerow(orig + suggestions)\n",
    "        \n",
    "        unmatched_count += 1\n",
    "print(f\"matched {matched_count} | unmatched {unmatched_count}\")\n",
    "\n",
    "matched_set.update(['bmse000208', 'bmse000161', 'bmse000373', 'bmse000092', 'bmse000142', 'bmse000182'])\n",
    "# unmatched_file.close()"
   ]
  },
  {
   "cell_type": "code",
   "execution_count": 18,
   "metadata": {},
   "outputs": [
    {
     "name": "stdout",
     "output_type": "stream",
     "text": [
      "identified 164 potential metabolites\n",
      "bmse000076(4) \u001b[92mfound - Citrate\u001b[0m\n",
      "bmse000373(13) \u001b[92mfound - Isovaleric-acid\u001b[0m\n",
      "bmse000297(7) \u001b[92mfound - Ethanol\u001b[0m\n",
      "bmse000208(6) \u001b[92mfound - L-(+) Lactic acid\u001b[0m\n",
      "bmse000285(9) \u001b[92mfound - Choline\u001b[0m\n",
      "bmse000069(2) \u001b[92mfound - Betaine\u001b[0m\n",
      "bmse000300(8) \u001b[92mfound - Benzoate\u001b[0m\n",
      "bmse000041(48) \u001b[92mfound - L-Isoleucine\u001b[0m\n",
      "bmse000132(10) \u001b[92mfound - Homovanillic acid\u001b[0m\n",
      "bmse000439(9) \u001b[92mfound - Isobutyric acid\u001b[0m\n",
      "bmse000044(21) \u001b[92mfound - L-Methionine\u001b[0m\n",
      "bmse000424(8) \u001b[92mfound - Adipic acid\u001b[0m\n",
      "bmse000398(6) \u001b[92mfound - Methylmalonic acid\u001b[0m\n",
      "bmse000220(7) \u001b[92mfound - Phenylacetic acid\u001b[0m\n",
      "bmse000161(16) \u001b[92mfound - 3-Hydroxybutyrate\u001b[0m\n",
      "bmse000614(6) \u001b[92mfound - Vanillic acid\u001b[0m\n",
      "bmse000863(7) \u001b[92mfound - Taurine\u001b[0m\n",
      "bmse000160(2) \u001b[92mfound - Sarcosine\u001b[0m\n",
      "bmse000458(5) \u001b[92mfound - P-Cresol\u001b[0m\n",
      "bmse000064(8) \u001b[92mfound - Alpha-Ketoglutaric acid\u001b[0m\n",
      "bmse000339(8) \u001b[92mfound - 3-Hydroxyphenylacetic acid\u001b[0m\n",
      "bmse000078(4) \u001b[92mfound - Creatine\u001b[0m\n",
      "bmse000049(10) \u001b[92mfound - L-Threonine\u001b[0m\n",
      "bmse000206(4) \u001b[92mfound - Caffeine\u001b[0m\n",
      "bmse000159(6) \u001b[92mfound - Beta-Alanine\u001b[0m\n",
      "bmse000155(2) \u001b[92mfound - Creatinine\u001b[0m\n",
      "26\n"
     ]
    }
   ],
   "source": [
    "unique_metabolites = {i[2]['metabolite_id'] for i in identified_metabolites}\n",
    "print(f'identified {len(unique_metabolites)} potential metabolites')\n",
    "matched_cnt = 0\n",
    "for m in unique_metabolites:\n",
    "    if m in matched_set:\n",
    "        matched_cnt += 1\n",
    "        print(f\"{m}({len(peak_db.metabolite_peaks[m])})\", Colors.color(f\"found - {names[m]}\", Colors.OKGREEN) if m in matched_set else Colors.color(\"not found\", Colors.FAIL))\n",
    "print(matched_cnt)"
   ]
  },
  {
   "cell_type": "markdown",
   "metadata": {},
   "source": [
    "## Playground"
   ]
  },
  {
   "cell_type": "code",
   "execution_count": 23,
   "metadata": {},
   "outputs": [
    {
     "data": {
      "text/html": [
       "<div>\n",
       "<style scoped>\n",
       "    .dataframe tbody tr th:only-of-type {\n",
       "        vertical-align: middle;\n",
       "    }\n",
       "\n",
       "    .dataframe tbody tr th {\n",
       "        vertical-align: top;\n",
       "    }\n",
       "\n",
       "    .dataframe thead th {\n",
       "        text-align: right;\n",
       "    }\n",
       "</style>\n",
       "<table border=\"1\" class=\"dataframe\">\n",
       "  <thead>\n",
       "    <tr style=\"text-align: right;\">\n",
       "      <th></th>\n",
       "      <th>peakIndex</th>\n",
       "      <th>peakPPM</th>\n",
       "      <th>peakValue</th>\n",
       "      <th>peakSNR</th>\n",
       "      <th>peakScale</th>\n",
       "      <th>Sample</th>\n",
       "    </tr>\n",
       "  </thead>\n",
       "  <tbody>\n",
       "    <tr>\n",
       "      <th>2932</th>\n",
       "      <td>39724</td>\n",
       "      <td>3.09768</td>\n",
       "      <td>1645.851751</td>\n",
       "      <td>78.810757</td>\n",
       "      <td>16.0</td>\n",
       "      <td>1</td>\n",
       "    </tr>\n",
       "    <tr>\n",
       "      <th>2933</th>\n",
       "      <td>39724</td>\n",
       "      <td>3.09768</td>\n",
       "      <td>1668.194836</td>\n",
       "      <td>16.073119</td>\n",
       "      <td>16.0</td>\n",
       "      <td>2</td>\n",
       "    </tr>\n",
       "    <tr>\n",
       "      <th>2934</th>\n",
       "      <td>39724</td>\n",
       "      <td>3.09768</td>\n",
       "      <td>1353.187492</td>\n",
       "      <td>27.515097</td>\n",
       "      <td>16.0</td>\n",
       "      <td>4</td>\n",
       "    </tr>\n",
       "    <tr>\n",
       "      <th>2935</th>\n",
       "      <td>39724</td>\n",
       "      <td>3.09768</td>\n",
       "      <td>1442.829691</td>\n",
       "      <td>21.724018</td>\n",
       "      <td>16.0</td>\n",
       "      <td>5</td>\n",
       "    </tr>\n",
       "    <tr>\n",
       "      <th>2936</th>\n",
       "      <td>39724</td>\n",
       "      <td>3.09792</td>\n",
       "      <td>799.588237</td>\n",
       "      <td>13.440489</td>\n",
       "      <td>16.0</td>\n",
       "      <td>6</td>\n",
       "    </tr>\n",
       "    <tr>\n",
       "      <th>2937</th>\n",
       "      <td>39724</td>\n",
       "      <td>3.09768</td>\n",
       "      <td>1048.566347</td>\n",
       "      <td>25.428368</td>\n",
       "      <td>16.0</td>\n",
       "      <td>7</td>\n",
       "    </tr>\n",
       "    <tr>\n",
       "      <th>2938</th>\n",
       "      <td>39724</td>\n",
       "      <td>3.09792</td>\n",
       "      <td>1099.928058</td>\n",
       "      <td>41.239464</td>\n",
       "      <td>15.0</td>\n",
       "      <td>8</td>\n",
       "    </tr>\n",
       "    <tr>\n",
       "      <th>2939</th>\n",
       "      <td>39724</td>\n",
       "      <td>3.09792</td>\n",
       "      <td>2318.607778</td>\n",
       "      <td>36.745645</td>\n",
       "      <td>16.0</td>\n",
       "      <td>9</td>\n",
       "    </tr>\n",
       "    <tr>\n",
       "      <th>2940</th>\n",
       "      <td>39724</td>\n",
       "      <td>3.09792</td>\n",
       "      <td>1144.814369</td>\n",
       "      <td>29.424182</td>\n",
       "      <td>16.0</td>\n",
       "      <td>10</td>\n",
       "    </tr>\n",
       "    <tr>\n",
       "      <th>2941</th>\n",
       "      <td>39724</td>\n",
       "      <td>3.09792</td>\n",
       "      <td>1526.418191</td>\n",
       "      <td>25.952690</td>\n",
       "      <td>16.0</td>\n",
       "      <td>11</td>\n",
       "    </tr>\n",
       "    <tr>\n",
       "      <th>2942</th>\n",
       "      <td>39724</td>\n",
       "      <td>3.09792</td>\n",
       "      <td>513.722321</td>\n",
       "      <td>6.265792</td>\n",
       "      <td>16.0</td>\n",
       "      <td>12</td>\n",
       "    </tr>\n",
       "    <tr>\n",
       "      <th>2943</th>\n",
       "      <td>39724</td>\n",
       "      <td>3.09768</td>\n",
       "      <td>471.015684</td>\n",
       "      <td>4.189935</td>\n",
       "      <td>16.0</td>\n",
       "      <td>13</td>\n",
       "    </tr>\n",
       "    <tr>\n",
       "      <th>2944</th>\n",
       "      <td>39724</td>\n",
       "      <td>3.09768</td>\n",
       "      <td>766.707041</td>\n",
       "      <td>14.130957</td>\n",
       "      <td>16.0</td>\n",
       "      <td>14</td>\n",
       "    </tr>\n",
       "    <tr>\n",
       "      <th>2945</th>\n",
       "      <td>39724</td>\n",
       "      <td>3.09792</td>\n",
       "      <td>653.553693</td>\n",
       "      <td>5.377113</td>\n",
       "      <td>16.0</td>\n",
       "      <td>15</td>\n",
       "    </tr>\n",
       "    <tr>\n",
       "      <th>6587</th>\n",
       "      <td>39724</td>\n",
       "      <td>3.09780</td>\n",
       "      <td>1368.159583</td>\n",
       "      <td>NaN</td>\n",
       "      <td>15.5</td>\n",
       "      <td>3</td>\n",
       "    </tr>\n",
       "    <tr>\n",
       "      <th>6588</th>\n",
       "      <td>39724</td>\n",
       "      <td>3.09780</td>\n",
       "      <td>573.749336</td>\n",
       "      <td>NaN</td>\n",
       "      <td>14.5</td>\n",
       "      <td>16</td>\n",
       "    </tr>\n",
       "  </tbody>\n",
       "</table>\n",
       "</div>"
      ],
      "text/plain": [
       "      peakIndex  peakPPM    peakValue    peakSNR  peakScale  Sample\n",
       "2932      39724  3.09768  1645.851751  78.810757       16.0       1\n",
       "2933      39724  3.09768  1668.194836  16.073119       16.0       2\n",
       "2934      39724  3.09768  1353.187492  27.515097       16.0       4\n",
       "2935      39724  3.09768  1442.829691  21.724018       16.0       5\n",
       "2936      39724  3.09792   799.588237  13.440489       16.0       6\n",
       "2937      39724  3.09768  1048.566347  25.428368       16.0       7\n",
       "2938      39724  3.09792  1099.928058  41.239464       15.0       8\n",
       "2939      39724  3.09792  2318.607778  36.745645       16.0       9\n",
       "2940      39724  3.09792  1144.814369  29.424182       16.0      10\n",
       "2941      39724  3.09792  1526.418191  25.952690       16.0      11\n",
       "2942      39724  3.09792   513.722321   6.265792       16.0      12\n",
       "2943      39724  3.09768   471.015684   4.189935       16.0      13\n",
       "2944      39724  3.09768   766.707041  14.130957       16.0      14\n",
       "2945      39724  3.09792   653.553693   5.377113       16.0      15\n",
       "6587      39724  3.09780  1368.159583        NaN       15.5       3\n",
       "6588      39724  3.09780   573.749336        NaN       14.5      16"
      ]
     },
     "execution_count": 23,
     "metadata": {},
     "output_type": "execute_result"
    }
   ],
   "source": [
    "filled[np.logical_and(filled.peakPPM > 3.09, filled.peakPPM < 3.10)]"
   ]
  },
  {
   "cell_type": "code",
   "execution_count": null,
   "metadata": {},
   "outputs": [],
   "source": []
  }
 ],
 "metadata": {
  "kernelspec": {
   "display_name": "Python 3",
   "language": "python",
   "name": "python3"
  },
  "language_info": {
   "codemirror_mode": {
    "name": "ipython",
    "version": 3
   },
   "file_extension": ".py",
   "mimetype": "text/x-python",
   "name": "python",
   "nbconvert_exporter": "python",
   "pygments_lexer": "ipython3",
   "version": "3.7.3"
  }
 },
 "nbformat": 4,
 "nbformat_minor": 2
}
