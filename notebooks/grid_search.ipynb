{
 "cells": [
  {
   "cell_type": "code",
   "execution_count": 1,
   "metadata": {},
   "outputs": [],
   "source": [
    "%load_ext autoreload\n",
    "%autoreload 2"
   ]
  },
  {
   "cell_type": "code",
   "execution_count": 2,
   "metadata": {},
   "outputs": [],
   "source": [
    "import pandas as pd\n",
    "import networkx as nx\n",
    "import numpy as np\n",
    "import Levenshtein as lev\n",
    "\n",
    "import matplotlib.pyplot as plt\n",
    "from arion.utils import generate_db, peakset2ppm, Colors"
   ]
  },
  {
   "cell_type": "code",
   "execution_count": 3,
   "metadata": {},
   "outputs": [],
   "source": [
    "data_dir = '/media/shared/arion_data/metabolites'"
   ]
  },
  {
   "cell_type": "code",
   "execution_count": 4,
   "metadata": {},
   "outputs": [
    {
     "data": {
      "text/plain": [
       "(16, 547)"
      ]
     },
     "execution_count": 4,
     "metadata": {},
     "output_type": "execute_result"
    }
   ],
   "source": [
    "filled = pd.read_csv('filled.csv').iloc[:, 1:]\n",
    "features = pd.read_csv('features.csv').iloc[:, 1:]\n",
    "features.shape"
   ]
  },
  {
   "cell_type": "code",
   "execution_count": 77,
   "metadata": {},
   "outputs": [
    {
     "name": "stdout",
     "output_type": "stream",
     "text": [
      "matched 68 | unmatched 46\n"
     ]
    }
   ],
   "source": [
    "import glob\n",
    "import xml.etree.ElementTree as ET\n",
    "import csv\n",
    "\n",
    "data_dir = '/media/shared/arion_data/metabolites'\n",
    "xml_file = 'simulation_1/spin_simulation.xml'\n",
    "cutoff = 0.001\n",
    "\n",
    "# load all GISSMO metabolite ids\n",
    "peaks = []\n",
    "met_idx = 0\n",
    "names = {}\n",
    "for met_idx, d in enumerate(glob.glob(f'{data_dir}/bmse*')):\n",
    "    metabolite_id = d.split('/')[-1]\n",
    "\n",
    "    tree = ET.parse(f'{d}/{xml_file}')\n",
    "    root = tree.getroot()\n",
    "    names[root.find('ID').text] = root.find('name').text\n",
    "\n",
    "# load all potential metabolites from Hamid\n",
    "hamid_met_names = []\n",
    "with open(\"names_from_hamid.csv\") as f:\n",
    "    csvfile = csv.reader(f)\n",
    "    next(csvfile)\n",
    "    for line in csvfile:\n",
    "        hamid_met_names.append([l.strip() for l in line])\n",
    "        \n",
    "# create an overlap set from the two above\n",
    "matched_count = 0\n",
    "unmatched_count = 0\n",
    "\n",
    "matched_set = set()\n",
    "for hamid_met_name_set in hamid_met_names:\n",
    "    matches = []\n",
    "    for n in hamid_met_name_set:\n",
    "        scores = [(n, lev.jaro(n.lower(), m.lower()), (i, m)) for i, m in names.items()]\n",
    "        matches.append(max(scores, key=lambda a: a[1]))\n",
    "    \n",
    "    if any([abs(m[1] - 1) < 0.000001 for m in matches]):\n",
    "        matched_count += 1\n",
    "        maxv = max(matches, key=lambda a: a[1])\n",
    "        matched_set.add(maxv[2][0])\n",
    "    else:\n",
    "        orig = [i[0] for i in matches]\n",
    "        suggestions = [f'{i[2][1]} <{i[2][0]}>' for i in matches]\n",
    "        \n",
    "        unmatched_count += 1\n",
    "        \n",
    "matched_set.update(['bmse000208', 'bmse000161', 'bmse000373', 'bmse000092', 'bmse000142', 'bmse000182'])\n",
    "\n",
    "print(f\"matched {matched_count} | unmatched {unmatched_count}\")"
   ]
  },
  {
   "cell_type": "code",
   "execution_count": 38,
   "metadata": {},
   "outputs": [
    {
     "name": "stdout",
     "output_type": "stream",
     "text": [
      "found 9028 peaks across 615 metabolites\n",
      "found 503 cliques\n",
      "found 463 cliques\n"
     ]
    }
   ],
   "source": [
    "MAX_CLIQUES = 100000\n",
    "PEARSON_CORRELATION_THRESHOLDS = np.arange(.8, .9, .05)\n",
    "MINIMUM_PERCENTAGE_OF_PEAKS_MATCHED_THRESHOLDS = np.arange(.1, .2, .1)\n",
    "\n",
    "results = []\n",
    "peak_db = generate_db(data_dir)\n",
    "for pearson_thresh in PEARSON_CORRELATION_THRESHOLDS:\n",
    "    for match_thresh in MINIMUM_PERCENTAGE_OF_PEAKS_MATCHED_THRESHOLDS:\n",
    "\n",
    "        corr_mat = features.corr('spearman')\n",
    "\n",
    "        g = nx.Graph(corr_mat > pearson_thresh)\n",
    "        cliqs = []\n",
    "\n",
    "        for idx, cliq in enumerate(nx.find_cliques(g)):\n",
    "            if idx > MAX_CLIQUES:\n",
    "                raise Exception(f\"More than {MAX_CLIQUES} cliques found\")\n",
    "                break\n",
    "            cliqs.append(cliq)\n",
    "        print(f\"found {len(cliqs)} cliques\")\n",
    "\n",
    "        found = False\n",
    "        identified_metabolites = {}\n",
    "        for idx, cliq in enumerate(cliqs):\n",
    "            res = peak_db.query_n(peakset2ppm(cliq, filled))\n",
    "            for qs in res:\n",
    "                if qs['score'] >= match_thresh and len(peak_db.metabolite_peaks[qs['metabolite_id']]) > 1 and len(qs['missing']) < 2:\n",
    "                    if qs['metabolite_id'] not in identified_metabolites:\n",
    "                        identified_metabolites[qs['metabolite_id']] = []\n",
    "\n",
    "                    identified_metabolites[qs['metabolite_id']].append({\n",
    "                        \"id\": idx, \n",
    "                        \"cliq\": cliq, \n",
    "                        \"query_results\": qs\n",
    "                    })\n",
    "\n",
    "        max_scored_metabolites = []\n",
    "        for met_id in identified_metabolites.keys():\n",
    "            metabolite_max_score = max(identified_metabolites[met_id], key=lambda m: m['query_results']['score'])\n",
    "\n",
    "            max_scored_metabolites.append(metabolite_max_score)\n",
    "\n",
    "        results.append({\n",
    "            'pearson_thresh': pearson_thresh,\n",
    "            'match_thresh': match_thresh, \n",
    "            'sorted_metabolites': sorted(max_scored_metabolites, key=lambda m: -m['query_results']['score'])\n",
    "        })"
   ]
  },
  {
   "cell_type": "code",
   "execution_count": 81,
   "metadata": {},
   "outputs": [],
   "source": [
    "import json\n",
    "\n",
    "with open(\"../data/grid_search_results.json\") as f:\n",
    "    results = json.load(f)\n",
    "\n",
    "met_ranks = {}\n",
    "for res in results:\n",
    "    for rank, met in enumerate(res['sorted_metabolites']):\n",
    "        met_id = met['query_results']['metabolite_id']\n",
    "        if met_id not in met_ranks:\n",
    "            met_ranks[met_id] = []\n",
    "        \n",
    "        met['rank'] = rank+1\n",
    "        met_ranks[met_id].append(met)"
   ]
  },
  {
   "cell_type": "code",
   "execution_count": 82,
   "metadata": {},
   "outputs": [],
   "source": [
    "maxl = len(max(list(met_ranks.values()), key= lambda l: len(l)))\n",
    "max_rank = max(list(met_ranks.values()), key= lambda l: max(l, key= lambda l1: l1['rank'])['rank'])[0]['rank']\n",
    "\n",
    "mets = []\n",
    "for met_id, met in met_ranks.items():\n",
    "    met_rank = ((maxl - len(met)) * max_rank + sum([i['rank'] for i in met])) / maxl\n",
    "    mets.append({\n",
    "        'rank_avg': met_rank,\n",
    "        'met': met,\n",
    "        'met_id': met_id\n",
    "    })"
   ]
  },
  {
   "cell_type": "code",
   "execution_count": 100,
   "metadata": {},
   "outputs": [
    {
     "name": "stdout",
     "output_type": "stream",
     "text": [
      "max_rank: 192\n",
      " bmse000069 -- average_rank:   4.8 -- max_score: 1.00 -- Betaine\n",
      " bmse000208 -- average_rank:   4.9 -- max_score: 1.00 -- L-(+) Lactic acid\n",
      " bmse000076 -- average_rank:   4.9 -- max_score: 1.00 -- Citrate\n",
      " bmse000206 -- average_rank:  18.6 -- max_score: 0.75 -- Caffeine\n",
      " bmse000155 -- average_rank:  23.3 -- max_score: 1.00 -- Creatinine\n",
      " bmse000160 -- average_rank:  24.6 -- max_score: 0.50 -- Sarcosine\n",
      " bmse000078 -- average_rank:  31.7 -- max_score: 0.50 -- Creatine\n",
      " bmse000161 -- average_rank:  51.8 -- max_score: 0.94 -- 3-Hydroxybutyrate\n",
      " bmse000863 -- average_rank:  60.2 -- max_score: 0.86 -- Taurine\n",
      " bmse000028 -- average_rank:  78.4 -- max_score: 0.33 -- L-Alanine\n",
      " bmse000614 -- average_rank:  80.2 -- max_score: 0.17 -- Vanillic acid\n",
      " bmse000398 -- average_rank:  80.7 -- max_score: 0.17 -- Methylmalonic acid\n",
      " bmse000439 -- average_rank:  81.7 -- max_score: 0.44 -- Isobutyric acid\n",
      " bmse000049 -- average_rank:  82.7 -- max_score: 0.20 -- L-Threonine\n",
      " bmse000458 -- average_rank:  82.9 -- max_score: 0.40 -- P-Cresol\n",
      " bmse000373 -- average_rank:  91.1 -- max_score: 0.15 -- Isovaleric-acid\n",
      " bmse000132 -- average_rank: 103.9 -- max_score: 0.30 -- Homovanillic acid\n",
      " bmse000339 -- average_rank: 108.6 -- max_score: 0.12 -- 3-Hydroxyphenylacetic acid\n",
      " bmse000285 -- average_rank: 119.0 -- max_score: 0.11 -- Choline\n",
      " bmse000159 -- average_rank: 126.8 -- max_score: 0.33 -- Beta-Alanine\n",
      " bmse000220 -- average_rank: 131.0 -- max_score: 0.14 -- Phenylacetic acid\n",
      " bmse000041 -- average_rank: 138.7 -- max_score: 0.12 -- L-Isoleucine\n",
      " bmse000300 -- average_rank: 147.0 -- max_score: 0.25 -- Benzoate\n",
      " bmse000297 -- average_rank: 147.3 -- max_score: 0.14 -- Ethanol\n",
      " bmse000064 -- average_rank: 155.0 -- max_score: 0.50 -- Alpha-Ketoglutaric acid\n",
      " bmse000179 -- average_rank: 161.3 -- max_score: 0.31 -- Propionic acid\n",
      " bmse000424 -- average_rank: 165.7 -- max_score: 0.12 -- Adipic acid\n",
      " bmse000044 -- average_rank: 172.9 -- max_score: 0.14 -- L-Methionine\n",
      " bmse000378 -- average_rank: 180.3 -- max_score: 0.15 -- Suberic acid\n",
      " bmse000142 -- average_rank: 180.3 -- max_score: 0.14 -- (+-)-Acetylcarnitine\n",
      " bmse000408 -- average_rank: 183.2 -- max_score: 0.18 -- Hippuric acid\n",
      " bmse000045 -- average_rank: 188.2 -- max_score: 0.25 -- L-Phenylalanine\n",
      " bmse000402 -- average_rank: 189.8 -- max_score: 0.17 -- Butyric acid\n"
     ]
    }
   ],
   "source": [
    "print(f'max_rank: {max_rank}')\n",
    "for met in sorted(mets, key=lambda m: m['rank_avg']):\n",
    "    if met['met_id'] in matched_set:\n",
    "        print(f\" {met['met_id']} -- average_rank: \"\n",
    "              f\"{met['rank_avg']:5.1f} -- \"\n",
    "              f\"max_score: {max(met['met'], key=lambda m: m['query_results']['score'])['query_results']['score']:.2f} -- \"\n",
    "              f\"{names[met['met_id']]}\"\n",
    "             )"
   ]
  },
  {
   "cell_type": "code",
   "execution_count": null,
   "metadata": {},
   "outputs": [],
   "source": []
  }
 ],
 "metadata": {
  "kernelspec": {
   "display_name": "Python 3",
   "language": "python",
   "name": "python3"
  },
  "language_info": {
   "codemirror_mode": {
    "name": "ipython",
    "version": 3
   },
   "file_extension": ".py",
   "mimetype": "text/x-python",
   "name": "python",
   "nbconvert_exporter": "python",
   "pygments_lexer": "ipython3",
   "version": "3.7.1"
  }
 },
 "nbformat": 4,
 "nbformat_minor": 2
}
