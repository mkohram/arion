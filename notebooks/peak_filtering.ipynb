{
 "cells": [
  {
   "cell_type": "code",
   "execution_count": 21,
   "metadata": {},
   "outputs": [],
   "source": [
    "import pandas as pd\n",
    "import numpy as np\n",
    "import glob"
   ]
  },
  {
   "cell_type": "code",
   "execution_count": 94,
   "metadata": {},
   "outputs": [],
   "source": [
    "data_dir = '/media/shared/arion_data/metabolites'\n",
    "peak_file = 'simulation_1/peaks/sim_600MHz_peaks_standard.csv'\n",
    "raw_file = 'simulation_1/B0s/sim_600MHz.csv'\n",
    "\n",
    "p = 0\n",
    "for met_idx, met_dir in enumerate(glob.glob(f'{data_dir}/bmse*')):\n",
    "    raw = pd.read_csv(f'{met_dir}/{raw_file}')\n",
    "    peaks = pd.read_csv(f'{met_dir}/{peak_file}')\n",
    "    \n",
    "    b = raw.val.copy()\n",
    "    b[b < 0.1] = 0\n",
    "    b[b > 0.1] = 1\n",
    "    \n",
    "    a += b\n",
    "    \n",
    "#     p += np.sum(peaks.Amp < 0.001)\n",
    "#     a += len(peaks)"
   ]
  },
  {
   "cell_type": "code",
   "execution_count": 95,
   "metadata": {},
   "outputs": [
    {
     "data": {
      "text/plain": [
       "15047"
      ]
     },
     "execution_count": 95,
     "metadata": {},
     "output_type": "execute_result"
    }
   ],
   "source": [
    "np.sum(a == 1)"
   ]
  },
  {
   "cell_type": "code",
   "execution_count": 97,
   "metadata": {},
   "outputs": [
    {
     "data": {
      "text/plain": [
       "<matplotlib.axes._subplots.AxesSubplot at 0x7f86a4ba0390>"
      ]
     },
     "execution_count": 97,
     "metadata": {},
     "output_type": "execute_result"
    },
    {
     "data": {
      "image/png": "[encoded data removed]",
      "text/plain": [
       "<Figure size 432x288 with 1 Axes>"
      ]
     },
     "metadata": {
      "needs_background": "light"
     },
     "output_type": "display_data"
    }
   ],
   "source": [
    "a[a>0].hist(bins=100)"
   ]
  },
  {
   "cell_type": "code",
   "execution_count": 89,
   "metadata": {},
   "outputs": [],
   "source": [
    "ps = pd.read_csv(f'{data_dir}/bmse000001/{raw_file}')"
   ]
  },
  {
   "cell_type": "code",
   "execution_count": 90,
   "metadata": {},
   "outputs": [],
   "source": [
    "a = ps.val.copy()\n",
    "a[a == 0.001] = 0\n",
    "a[a > 0.001] = 0\n",
    "a[a < 0.001] = 0"
   ]
  },
  {
   "cell_type": "code",
   "execution_count": null,
   "metadata": {},
   "outputs": [],
   "source": []
  }
 ],
 "metadata": {
  "kernelspec": {
   "display_name": "Python 3",
   "language": "python",
   "name": "python3"
  },
  "language_info": {
   "codemirror_mode": {
    "name": "ipython",
    "version": 3
   },
   "file_extension": ".py",
   "mimetype": "text/x-python",
   "name": "python",
   "nbconvert_exporter": "python",
   "pygments_lexer": "ipython3",
   "version": "3.7.1"
  }
 },
 "nbformat": 4,
 "nbformat_minor": 2
}
